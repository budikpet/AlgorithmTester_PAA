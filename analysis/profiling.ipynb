{
 "cells": [
  {
   "cell_type": "code",
   "execution_count": null,
   "metadata": {},
   "outputs": [],
   "source": [
    "import os\n",
    "import sys\n",
    "import pandas\n",
    "import numpy\n",
    "import shutil\n",
    "import cProfile, pstats, io\n",
    "\n",
    "%load_ext cython"
   ]
  },
  {
   "cell_type": "code",
   "execution_count": null,
   "metadata": {},
   "outputs": [],
   "source": [
    "from package_parsers.sat_parser import SATParser\n",
    "from algorithm_tester_common.tester_dataclasses import AlgTesterContext\n",
    "from algorithm_tester.helpers import create_path\n",
    "from algorithm_tester.concurrency_runners import BaseRunner"
   ]
  },
  {
   "cell_type": "code",
   "execution_count": null,
   "metadata": {},
   "outputs": [],
   "source": [
    "from package_algorithms.sat.sa_sat_v1 import SimulatedAnnealing_SAT_V1\n",
    "from package_algorithms.sat.sa_sat_v2 import SimulatedAnnealing_SAT_V2\n",
    "from package_algorithms.sat.sa_sat_v3 import SimulatedAnnealing_SAT_V3"
   ]
  },
  {
   "cell_type": "code",
   "execution_count": null,
   "metadata": {},
   "outputs": [],
   "source": [
    "def profile(fnc):\n",
    "    \n",
    "    \"\"\"A decorator that uses cProfile to profile a function\"\"\"\n",
    "    \n",
    "    def inner(*args, **kwargs):\n",
    "        \n",
    "        pr = cProfile.Profile()\n",
    "        pr.enable()\n",
    "        retval = fnc(*args, **kwargs)\n",
    "        pr.disable()\n",
    "        s = io.StringIO()\n",
    "        sortby = 'cumulative'\n",
    "        ps = pstats.Stats(pr, stream=s).sort_stats(sortby)\n",
    "        ps.print_stats()\n",
    "        print(s.getvalue())\n",
    "        return retval\n",
    "\n",
    "    return inner"
   ]
  },
  {
   "cell_type": "code",
   "execution_count": null,
   "metadata": {},
   "outputs": [],
   "source": [
    "@profile\n",
    "def profileRunAlgorithms(context, instance_data):\n",
    "    sa = SimulatedAnnealing_SAT_V3()\n",
    "    sa.perform_algorithm(context, instance_data)\n",
    "\n",
    "parser: SATParser = SATParser()\n",
    "\n",
    "out_dir: str = \".tmp_out_dir\"\n",
    "context: AlgTesterContext = AlgTesterContext(\n",
    "    algorithms=[\"SA_SAT\"], parser=\"SATParser\", communicators=[], concurrency_runner=BaseRunner(),\n",
    "    check_time=True, time_retries=1, max_num=None,\n",
    "    extra_options={\"init_temperature\":1000, \"min_temperature\":1, \"cooling\":0.995, \"cycles\":50, \"max_retry_attempts\":3, \"create_evo_file\":False},\n",
    "    input_dir=\"../data/NK\", output_dir=out_dir\n",
    "    )\n",
    "    \n",
    "create_path(out_dir)\n",
    "with open(\"../data/wuf-A/wuf20-88-A/wuf20-01000-A.mwcnf\") as instance_file:\n",
    "    instance_data = parser.get_next_instance(instance_file)\n",
    "    profileRunAlgorithms(context, instance_data)\n",
    "    \n",
    "shutil.rmtree(out_dir)"
   ]
  },
  {
   "cell_type": "code",
   "execution_count": null,
   "metadata": {},
   "outputs": [],
   "source": [
    "%%cython\n",
    "\n",
    "import time\n",
    "import random\n",
    "from libc.math cimport exp\n",
    "from libc.stdlib cimport rand, srand, RAND_MAX\n",
    "from libc.stdio cimport fopen, FILE, fclose, fprintf\n",
    "\n",
    "cpdef void set_seed(int seed):\n",
    "    srand(seed)\n",
    "    \n",
    "cpdef float random_float():\n",
    "    return rand()/RAND_MAX\n",
    "\n",
    "cpdef int random_int(int low = 0, int height = 2):\n",
    "    return rand() % height + low\n",
    "            \n",
    "cpdef test(str path):\n",
    "    with open(path, \"w\") as out:\n",
    "        print(type(out))\n",
    "        out.write(\"test\\n\")"
   ]
  },
  {
   "cell_type": "code",
   "execution_count": null,
   "metadata": {},
   "outputs": [],
   "source": [
    "cooling = 0.995\n",
    "max_temp = 1000\n",
    "min_temp = 0.5\n",
    "cycles = 50\n",
    "cntr = 0\n",
    "\n",
    "while max_temp > min_temp:\n",
    "    for _ in range(cycles):\n",
    "        cntr += 1\n",
    "    max_temp *= cooling\n",
    "\n",
    "cntr"
   ]
  }
 ],
 "metadata": {
  "kernelspec": {
   "display_name": "Python 3",
   "language": "python",
   "name": "python3"
  },
  "language_info": {
   "codemirror_mode": {
    "name": "ipython",
    "version": 3
   },
   "file_extension": ".py",
   "mimetype": "text/x-python",
   "name": "python",
   "nbconvert_exporter": "python",
   "pygments_lexer": "ipython3",
   "version": "3.7.5"
  }
 },
 "nbformat": 4,
 "nbformat_minor": 2
}
